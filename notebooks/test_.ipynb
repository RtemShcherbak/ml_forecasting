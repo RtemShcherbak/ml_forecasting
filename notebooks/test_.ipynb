{
 "cells": [
  {
   "cell_type": "code",
   "execution_count": 1,
   "id": "9b194768",
   "metadata": {},
   "outputs": [
    {
     "data": {
      "text/plain": [
       "2"
      ]
     },
     "execution_count": 1,
     "metadata": {},
     "output_type": "execute_result"
    }
   ],
   "source": [
    "1+1"
   ]
  },
  {
   "cell_type": "code",
   "execution_count": 2,
   "id": "7f14025c",
   "metadata": {},
   "outputs": [
    {
     "name": "stdout",
     "output_type": "stream",
     "text": [
      "Package           Version\n",
      "----------------- -----------\n",
      "asttokens         3.0.0\n",
      "comm              0.2.2\n",
      "debugpy           1.8.14\n",
      "decorator         5.2.1\n",
      "exceptiongroup    1.3.0\n",
      "executing         2.2.0\n",
      "ipykernel         6.29.5\n",
      "ipython           8.37.0\n",
      "jedi              0.19.2\n",
      "jupyter_client    8.6.3\n",
      "jupyter_core      5.8.1\n",
      "matplotlib-inline 0.1.7\n",
      "nest-asyncio      1.6.0\n",
      "packaging         25.0\n",
      "parso             0.8.4\n",
      "pexpect           4.9.0\n",
      "pip               25.1.1\n",
      "platformdirs      4.3.8\n",
      "prompt_toolkit    3.0.51\n",
      "psutil            7.0.0\n",
      "ptyprocess        0.7.0\n",
      "pure_eval         0.2.3\n",
      "Pygments          2.19.2\n",
      "python-dateutil   2.9.0.post0\n",
      "pyzmq             27.0.0\n",
      "setuptools        65.5.1\n",
      "six               1.17.0\n",
      "stack-data        0.6.3\n",
      "tornado           6.5.1\n",
      "traitlets         5.14.3\n",
      "typing_extensions 4.14.0\n",
      "wcwidth           0.2.13\n",
      "wheel             0.45.1\n",
      "Note: you may need to restart the kernel to use updated packages.\n"
     ]
    }
   ],
   "source": [
    "pip list"
   ]
  },
  {
   "cell_type": "code",
   "execution_count": null,
   "id": "a6d68ec2",
   "metadata": {},
   "outputs": [],
   "source": []
  }
 ],
 "metadata": {
  "kernelspec": {
   "display_name": "Python 3",
   "language": "python",
   "name": "python3"
  },
  "language_info": {
   "codemirror_mode": {
    "name": "ipython",
    "version": 3
   },
   "file_extension": ".py",
   "mimetype": "text/x-python",
   "name": "python",
   "nbconvert_exporter": "python",
   "pygments_lexer": "ipython3",
   "version": "3.10.18"
  }
 },
 "nbformat": 4,
 "nbformat_minor": 5
}
